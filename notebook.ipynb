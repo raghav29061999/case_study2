{
 "cells": [
  {
   "cell_type": "code",
   "execution_count": 6,
   "metadata": {},
   "outputs": [],
   "source": [
    "import numpy as np\n",
    "import pandas as pd"
   ]
  },
  {
   "cell_type": "code",
   "execution_count": 7,
   "metadata": {},
   "outputs": [
    {
     "data": {
      "text/html": [
       "<div>\n",
       "<style scoped>\n",
       "    .dataframe tbody tr th:only-of-type {\n",
       "        vertical-align: middle;\n",
       "    }\n",
       "\n",
       "    .dataframe tbody tr th {\n",
       "        vertical-align: top;\n",
       "    }\n",
       "\n",
       "    .dataframe thead th {\n",
       "        text-align: right;\n",
       "    }\n",
       "</style>\n",
       "<table border=\"1\" class=\"dataframe\">\n",
       "  <thead>\n",
       "    <tr style=\"text-align: right;\">\n",
       "      <th></th>\n",
       "      <th>Unnamed: 0</th>\n",
       "      <th>User_ID</th>\n",
       "      <th>Product_ID</th>\n",
       "      <th>Gender</th>\n",
       "      <th>Age</th>\n",
       "      <th>Occupation</th>\n",
       "      <th>City_Category</th>\n",
       "      <th>Stay_In_Current_City_Years</th>\n",
       "      <th>Marital_Status</th>\n",
       "      <th>Product_Category</th>\n",
       "      <th>Purchase</th>\n",
       "    </tr>\n",
       "  </thead>\n",
       "  <tbody>\n",
       "    <tr>\n",
       "      <th>0</th>\n",
       "      <td>0</td>\n",
       "      <td>1000001</td>\n",
       "      <td>P00069042</td>\n",
       "      <td>F</td>\n",
       "      <td>0-17</td>\n",
       "      <td>10</td>\n",
       "      <td>A</td>\n",
       "      <td>2</td>\n",
       "      <td>0</td>\n",
       "      <td>3</td>\n",
       "      <td>8370</td>\n",
       "    </tr>\n",
       "    <tr>\n",
       "      <th>1</th>\n",
       "      <td>1</td>\n",
       "      <td>1000001</td>\n",
       "      <td>P00248942</td>\n",
       "      <td>F</td>\n",
       "      <td>0-17</td>\n",
       "      <td>10</td>\n",
       "      <td>A</td>\n",
       "      <td>2</td>\n",
       "      <td>0</td>\n",
       "      <td>1</td>\n",
       "      <td>15200</td>\n",
       "    </tr>\n",
       "    <tr>\n",
       "      <th>2</th>\n",
       "      <td>2</td>\n",
       "      <td>1000001</td>\n",
       "      <td>P00087842</td>\n",
       "      <td>F</td>\n",
       "      <td>0-17</td>\n",
       "      <td>10</td>\n",
       "      <td>A</td>\n",
       "      <td>2</td>\n",
       "      <td>0</td>\n",
       "      <td>12</td>\n",
       "      <td>1422</td>\n",
       "    </tr>\n",
       "    <tr>\n",
       "      <th>3</th>\n",
       "      <td>3</td>\n",
       "      <td>1000001</td>\n",
       "      <td>P00085442</td>\n",
       "      <td>F</td>\n",
       "      <td>0-17</td>\n",
       "      <td>10</td>\n",
       "      <td>A</td>\n",
       "      <td>2</td>\n",
       "      <td>0</td>\n",
       "      <td>12</td>\n",
       "      <td>1057</td>\n",
       "    </tr>\n",
       "    <tr>\n",
       "      <th>4</th>\n",
       "      <td>4</td>\n",
       "      <td>1000002</td>\n",
       "      <td>P00285442</td>\n",
       "      <td>M</td>\n",
       "      <td>55+</td>\n",
       "      <td>16</td>\n",
       "      <td>C</td>\n",
       "      <td>4+</td>\n",
       "      <td>0</td>\n",
       "      <td>8</td>\n",
       "      <td>7969</td>\n",
       "    </tr>\n",
       "  </tbody>\n",
       "</table>\n",
       "</div>"
      ],
      "text/plain": [
       "   Unnamed: 0  User_ID Product_ID Gender   Age  Occupation City_Category  \\\n",
       "0           0  1000001  P00069042      F  0-17          10             A   \n",
       "1           1  1000001  P00248942      F  0-17          10             A   \n",
       "2           2  1000001  P00087842      F  0-17          10             A   \n",
       "3           3  1000001  P00085442      F  0-17          10             A   \n",
       "4           4  1000002  P00285442      M   55+          16             C   \n",
       "\n",
       "  Stay_In_Current_City_Years  Marital_Status  Product_Category  Purchase  \n",
       "0                          2               0                 3      8370  \n",
       "1                          2               0                 1     15200  \n",
       "2                          2               0                12      1422  \n",
       "3                          2               0                12      1057  \n",
       "4                         4+               0                 8      7969  "
      ]
     },
     "execution_count": 7,
     "metadata": {},
     "output_type": "execute_result"
    }
   ],
   "source": [
    "df = pd.read_csv(\"walmart_data.csv\")\n",
    "df.head(5)"
   ]
  },
  {
   "cell_type": "code",
   "execution_count": 8,
   "metadata": {},
   "outputs": [
    {
     "data": {
      "text/plain": [
       "(550068, 11)"
      ]
     },
     "execution_count": 8,
     "metadata": {},
     "output_type": "execute_result"
    }
   ],
   "source": [
    "df.shape"
   ]
  },
  {
   "cell_type": "code",
   "execution_count": 9,
   "metadata": {},
   "outputs": [
    {
     "name": "stdout",
     "output_type": "stream",
     "text": [
      "<class 'pandas.core.frame.DataFrame'>\n",
      "RangeIndex: 550068 entries, 0 to 550067\n",
      "Data columns (total 11 columns):\n",
      " #   Column                      Non-Null Count   Dtype \n",
      "---  ------                      --------------   ----- \n",
      " 0   Unnamed: 0                  550068 non-null  int64 \n",
      " 1   User_ID                     550068 non-null  int64 \n",
      " 2   Product_ID                  550068 non-null  object\n",
      " 3   Gender                      550068 non-null  object\n",
      " 4   Age                         550068 non-null  object\n",
      " 5   Occupation                  550068 non-null  int64 \n",
      " 6   City_Category               550068 non-null  object\n",
      " 7   Stay_In_Current_City_Years  550068 non-null  object\n",
      " 8   Marital_Status              550068 non-null  int64 \n",
      " 9   Product_Category            550068 non-null  int64 \n",
      " 10  Purchase                    550068 non-null  int64 \n",
      "dtypes: int64(6), object(5)\n",
      "memory usage: 46.2+ MB\n"
     ]
    }
   ],
   "source": [
    "df.info()"
   ]
  },
  {
   "cell_type": "code",
   "execution_count": 10,
   "metadata": {},
   "outputs": [
    {
     "data": {
      "text/plain": [
       "Unnamed: 0                    0\n",
       "User_ID                       0\n",
       "Product_ID                    0\n",
       "Gender                        0\n",
       "Age                           0\n",
       "Occupation                    0\n",
       "City_Category                 0\n",
       "Stay_In_Current_City_Years    0\n",
       "Marital_Status                0\n",
       "Product_Category              0\n",
       "Purchase                      0\n",
       "dtype: int64"
      ]
     },
     "execution_count": 10,
     "metadata": {},
     "output_type": "execute_result"
    }
   ],
   "source": [
    "df.isna().sum()"
   ]
  },
  {
   "cell_type": "code",
   "execution_count": 11,
   "metadata": {},
   "outputs": [
    {
     "data": {
      "text/html": [
       "<div>\n",
       "<style scoped>\n",
       "    .dataframe tbody tr th:only-of-type {\n",
       "        vertical-align: middle;\n",
       "    }\n",
       "\n",
       "    .dataframe tbody tr th {\n",
       "        vertical-align: top;\n",
       "    }\n",
       "\n",
       "    .dataframe thead th {\n",
       "        text-align: right;\n",
       "    }\n",
       "</style>\n",
       "<table border=\"1\" class=\"dataframe\">\n",
       "  <thead>\n",
       "    <tr style=\"text-align: right;\">\n",
       "      <th></th>\n",
       "      <th>Unnamed: 0</th>\n",
       "      <th>User_ID</th>\n",
       "      <th>Occupation</th>\n",
       "      <th>Marital_Status</th>\n",
       "      <th>Product_Category</th>\n",
       "      <th>Purchase</th>\n",
       "    </tr>\n",
       "  </thead>\n",
       "  <tbody>\n",
       "    <tr>\n",
       "      <th>count</th>\n",
       "      <td>550068.000000</td>\n",
       "      <td>5.500680e+05</td>\n",
       "      <td>550068.000000</td>\n",
       "      <td>550068.000000</td>\n",
       "      <td>550068.000000</td>\n",
       "      <td>550068.000000</td>\n",
       "    </tr>\n",
       "    <tr>\n",
       "      <th>mean</th>\n",
       "      <td>275033.500000</td>\n",
       "      <td>1.003029e+06</td>\n",
       "      <td>8.076707</td>\n",
       "      <td>0.409653</td>\n",
       "      <td>5.404270</td>\n",
       "      <td>9263.968713</td>\n",
       "    </tr>\n",
       "    <tr>\n",
       "      <th>std</th>\n",
       "      <td>158791.098274</td>\n",
       "      <td>1.727592e+03</td>\n",
       "      <td>6.522660</td>\n",
       "      <td>0.491770</td>\n",
       "      <td>3.936211</td>\n",
       "      <td>5023.065394</td>\n",
       "    </tr>\n",
       "    <tr>\n",
       "      <th>min</th>\n",
       "      <td>0.000000</td>\n",
       "      <td>1.000001e+06</td>\n",
       "      <td>0.000000</td>\n",
       "      <td>0.000000</td>\n",
       "      <td>1.000000</td>\n",
       "      <td>12.000000</td>\n",
       "    </tr>\n",
       "    <tr>\n",
       "      <th>25%</th>\n",
       "      <td>137516.750000</td>\n",
       "      <td>1.001516e+06</td>\n",
       "      <td>2.000000</td>\n",
       "      <td>0.000000</td>\n",
       "      <td>1.000000</td>\n",
       "      <td>5823.000000</td>\n",
       "    </tr>\n",
       "    <tr>\n",
       "      <th>50%</th>\n",
       "      <td>275033.500000</td>\n",
       "      <td>1.003077e+06</td>\n",
       "      <td>7.000000</td>\n",
       "      <td>0.000000</td>\n",
       "      <td>5.000000</td>\n",
       "      <td>8047.000000</td>\n",
       "    </tr>\n",
       "    <tr>\n",
       "      <th>75%</th>\n",
       "      <td>412550.250000</td>\n",
       "      <td>1.004478e+06</td>\n",
       "      <td>14.000000</td>\n",
       "      <td>1.000000</td>\n",
       "      <td>8.000000</td>\n",
       "      <td>12054.000000</td>\n",
       "    </tr>\n",
       "    <tr>\n",
       "      <th>max</th>\n",
       "      <td>550067.000000</td>\n",
       "      <td>1.006040e+06</td>\n",
       "      <td>20.000000</td>\n",
       "      <td>1.000000</td>\n",
       "      <td>20.000000</td>\n",
       "      <td>23961.000000</td>\n",
       "    </tr>\n",
       "  </tbody>\n",
       "</table>\n",
       "</div>"
      ],
      "text/plain": [
       "          Unnamed: 0       User_ID     Occupation  Marital_Status  \\\n",
       "count  550068.000000  5.500680e+05  550068.000000   550068.000000   \n",
       "mean   275033.500000  1.003029e+06       8.076707        0.409653   \n",
       "std    158791.098274  1.727592e+03       6.522660        0.491770   \n",
       "min         0.000000  1.000001e+06       0.000000        0.000000   \n",
       "25%    137516.750000  1.001516e+06       2.000000        0.000000   \n",
       "50%    275033.500000  1.003077e+06       7.000000        0.000000   \n",
       "75%    412550.250000  1.004478e+06      14.000000        1.000000   \n",
       "max    550067.000000  1.006040e+06      20.000000        1.000000   \n",
       "\n",
       "       Product_Category       Purchase  \n",
       "count     550068.000000  550068.000000  \n",
       "mean           5.404270    9263.968713  \n",
       "std            3.936211    5023.065394  \n",
       "min            1.000000      12.000000  \n",
       "25%            1.000000    5823.000000  \n",
       "50%            5.000000    8047.000000  \n",
       "75%            8.000000   12054.000000  \n",
       "max           20.000000   23961.000000  "
      ]
     },
     "execution_count": 11,
     "metadata": {},
     "output_type": "execute_result"
    }
   ],
   "source": [
    "df.describe()"
   ]
  },
  {
   "cell_type": "code",
   "execution_count": 12,
   "metadata": {},
   "outputs": [
    {
     "name": "stdout",
     "output_type": "stream",
     "text": [
      "Index(['User_ID', 'Product_ID', 'Gender', 'Age', 'Occupation', 'City_Category',\n",
      "       'Stay_In_Current_City_Years', 'Marital_Status', 'Product_Category',\n",
      "       'Purchase'],\n",
      "      dtype='object')\n"
     ]
    }
   ],
   "source": [
    "df.drop(columns=['Unnamed: 0'], inplace=True)\n",
    "print(df.columns)"
   ]
  },
  {
   "cell_type": "code",
   "execution_count": 13,
   "metadata": {},
   "outputs": [
    {
     "name": "stdout",
     "output_type": "stream",
     "text": [
      "10\n"
     ]
    }
   ],
   "source": [
    "print(len(df.columns))"
   ]
  },
  {
   "cell_type": "markdown",
   "metadata": {},
   "source": [
    "#### Exploring the purchase column -\n",
    "    1. Basic descriptive stats\n",
    "    2. Visulization\n",
    "    3. Outlier detection\n",
    "    4. Normality Test\n"
   ]
  },
  {
   "cell_type": "code",
   "execution_count": 17,
   "metadata": {},
   "outputs": [],
   "source": [
    "import matplotlib.pyplot as plt\n",
    "import seaborn as sns\n",
    "from scipy.stats import shapiro, normaltest\n",
    "\n",
    "\n",
    "def basic_description(df, column_name):\n",
    "    stats = df[column_name].describe()\n",
    "    skewness = df[column_name].skew()\n",
    "    kurtosis = df[column_name].kurt()\n",
    "    print(f\"Descriptive Stats for {column_name}: \\n{stats}\")\n",
    "    print(f\"Skewness: {skewness}\")\n",
    "    print(f\"Kurtosis: {kurtosis}\")\n",
    "\n",
    "\n",
    "\n",
    "\n",
    "def create_graphs(df, column_name):\n",
    "    plt.figure(figsize=(14,6))\n",
    "\n",
    "    #Histogram\n",
    "    plt.subplot(1,3,1)\n",
    "    sns.histplot(data=df, x = column_name, kde=True)\n",
    "    plt.title(f'Distribution of {column_name}')\n",
    "    plt.xlabel(column_name)\n",
    "    plt.ylabel(\"frequency\")\n",
    "    \n",
    "\n",
    "\n",
    "    #Boxplot\n",
    "    plt.subplot(1,3,2)\n",
    "    sns.boxplot(y= df[column_name], color='orange') \n",
    "    plt.title(f\"Boxplot of {column_name}\")\n",
    "    plt.ylabel(column_name)\n",
    "    \n",
    "    \n",
    "    #Violin plot\n",
    "    plt.subplot(1,3,3)\n",
    "    sns.violinplot(y= df[column_name], color='green') \n",
    "    plt.title(f\"Violinplot of {column_name}\")\n",
    "    plt.ylabel(column_name)\n",
    "\n",
    "    plt.tight_layout()\n",
    "    plt.show()\n",
    "\n",
    "def outlier_detection(df, column_name):\n",
    "    Q1 = df[column_name].quantile(0.25)\n",
    "    Q3 = df[column_name].quantile(0.75)\n",
    "\n",
    "    IQR = Q3-Q1\n",
    "\n",
    "    lower_bound = Q1 - 1.5*IQR\n",
    "    upper_bound = Q3 + 1.5*IQR\n",
    "\n",
    "    outliers = df[(df[column_name]<lower_bound) |(df[column_name]>upper_bound)]\n",
    "\n",
    "    print(f\"Outliers detected in {column_name}\")\n",
    "    print(outliers)\n",
    "    return outliers\n",
    "\n",
    "\n",
    "\n",
    "\n",
    "def check_normality(df, column_name):\n",
    "    stats, p = shapiro(df[column_name])\n",
    "    print(f\"Shapiro-Wilk Test for {column_name}: Stat = {stats}, p = {p}\")\n",
    "\n",
    "    if p > 0.05:\n",
    "        print(\"The data appears to be normally distributed.\")\n",
    "    else:\n",
    "        print(\"The data does not appear to be normally distributed.\")\n",
    "\n",
    "    print(\"!\"*50)\n",
    "    \n",
    "    stat, p = normaltest(df[column_name])\n",
    "\n",
    "    print(f\"D’Agostino’s K^2 Test: Stat={stat}, p={p}\")\n",
    "    if p > 0.05:\n",
    "        print(\"The data appears to be normally distributed.\")\n",
    "    else:\n",
    "        print(\"The data does not appear to be normally distributed.\")\n"
   ]
  },
  {
   "cell_type": "code",
   "execution_count": 18,
   "metadata": {},
   "outputs": [
    {
     "name": "stdout",
     "output_type": "stream",
     "text": [
      "Descriptive Stats for Purchase: \n",
      "count    550068.000000\n",
      "mean       9263.968713\n",
      "std        5023.065394\n",
      "min          12.000000\n",
      "25%        5823.000000\n",
      "50%        8047.000000\n",
      "75%       12054.000000\n",
      "max       23961.000000\n",
      "Name: Purchase, dtype: float64\n",
      "Skewness: 0.6001400037087128\n",
      "Kurtosis: -0.3383775655851702\n",
      "******************************************************************************************\n"
     ]
    },
    {
     "data": {
      "image/png": "[encoded data removed]",
      "text/plain": [
       "<Figure size 1400x600 with 3 Axes>"
      ]
     },
     "metadata": {},
     "output_type": "display_data"
    },
    {
     "name": "stdout",
     "output_type": "stream",
     "text": [
      "******************************************************************************************\n",
      "Outliers detected in Purchase\n",
      "        User_ID Product_ID Gender    Age  Occupation City_Category  \\\n",
      "343     1000058  P00117642      M  26-35           2             B   \n",
      "375     1000062  P00119342      F  36-45           3             A   \n",
      "652     1000126  P00087042      M  18-25           9             B   \n",
      "736     1000139  P00159542      F  26-35          20             C   \n",
      "1041    1000175  P00052842      F  26-35           2             B   \n",
      "...         ...        ...    ...    ...         ...           ...   \n",
      "544488  1005815  P00116142      M  26-35          20             B   \n",
      "544704  1005847  P00085342      F  18-25           4             B   \n",
      "544743  1005852  P00202242      F  26-35           1             A   \n",
      "545663  1006002  P00116142      M  51-55           0             C   \n",
      "545787  1006018  P00052842      M  36-45           1             C   \n",
      "\n",
      "       Stay_In_Current_City_Years  Marital_Status  Product_Category  Purchase  \n",
      "343                             3               0                10     23603  \n",
      "375                             1               0                10     23792  \n",
      "652                             1               0                10     23233  \n",
      "736                             2               0                10     23595  \n",
      "1041                            1               0                10     23341  \n",
      "...                           ...             ...               ...       ...  \n",
      "544488                          1               0                10     23753  \n",
      "544704                          2               0                10     23724  \n",
      "544743                          0               1                10     23529  \n",
      "545663                          1               1                10     23663  \n",
      "545787                          3               0                10     23496  \n",
      "\n",
      "[2677 rows x 10 columns]\n",
      "******************************************************************************************\n",
      "Shapiro-Wilk Test for Purchase: Stat = 0.9535839819424201, p = 2.9829518736335884e-122\n",
      "The data does not appear to be normally distributed.\n",
      "!!!!!!!!!!!!!!!!!!!!!!!!!!!!!!!!!!!!!!!!!!!!!!!!!!\n",
      "D’Agostino’s K^2 Test: Stat=32207.52024954876, p=0.0\n",
      "The data does not appear to be normally distributed.\n"
     ]
    },
    {
     "name": "stderr",
     "output_type": "stream",
     "text": [
      "C:\\Users\\singh\\AppData\\Local\\Packages\\PythonSoftwareFoundation.Python.3.12_qbz5n2kfra8p0\\LocalCache\\local-packages\\Python312\\site-packages\\scipy\\stats\\_axis_nan_policy.py:573: UserWarning: scipy.stats.shapiro: For N > 5000, computed p-value may not be accurate. Current N is 550068.\n",
      "  res = hypotest_fun_out(*samples, **kwds)\n"
     ]
    }
   ],
   "source": [
    "basic_description(df, 'Purchase')\n",
    "print(\"*\"*90)\n",
    "create_graphs(df, 'Purchase')\n",
    "print(\"*\"*90)\n",
    "outlier_detection(df, 'Purchase')\n",
    "print(\"*\"*90)\n",
    "check_normality(df, 'Purchase')"
   ]
  },
  {
   "cell_type": "markdown",
   "metadata": {},
   "source": [
    "## Observations\n",
    "    1.The median purchase value is approximately 10,000, indicating the central tendency.\n",
    "    2.The interquartile range (IQR) spans from 5,000 (Q1) to 15,000 (Q3).\n",
    "    3.Outliers exist above 20,000, indicating rare high purchase values.\n",
    "    4.The minimum purchase is near 0, with a lower whisker extending to this value.\n",
    "    5.The upper whisker ends at approximately 20,000, with no extreme values below the lower whisker.\n",
    "    6.The density in the violin plot shows a peak around 10,000, indicating the most frequent purchases.\n",
    "    7.The distribution appears slightly multi-modal, with multiple peaks visible in the violin plot.\n",
    "    8.Purchases are moderately symmetrical, with minor variations in higher values.\n",
    "    9.The majority of purchase values lie within a stable range of 5,000 to 15,000.\n",
    "    10.The presence of outliers suggests occasional high-value purchases, impacting the data spread.\n",
    "    11.Both tests strongly suggest non-normality in the Purchase data.\n",
    "    12.The presence of outliers (observed in boxplots) and the multi-modal peaks (from the violin plot) are consistent with the non-normal distribution"
   ]
  },
  {
   "cell_type": "code",
   "execution_count": null,
   "metadata": {},
   "outputs": [],
   "source": []
  }
 ],
 "metadata": {
  "kernelspec": {
   "display_name": "Python 3",
   "language": "python",
   "name": "python3"
  },
  "language_info": {
   "codemirror_mode": {
    "name": "ipython",
    "version": 3
   },
   "file_extension": ".py",
   "mimetype": "text/x-python",
   "name": "python",
   "nbconvert_exporter": "python",
   "pygments_lexer": "ipython3",
   "version": "3.12.8"
  }
 },
 "nbformat": 4,
 "nbformat_minor": 2
}
